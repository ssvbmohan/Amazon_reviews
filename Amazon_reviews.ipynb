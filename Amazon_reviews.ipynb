{
 "cells": [
  {
   "cell_type": "code",
   "execution_count": 1,
   "metadata": {},
   "outputs": [],
   "source": [
    "import os\n",
    "import numpy as np\n",
    "import pandas as pd\n",
    "import random\n",
    "import string\n",
    "random.seed(123)\n",
    "import datetime as dt\n",
    "\n",
    "# import warnings\n",
    "# warnings.filterwarnings('ignore','RuntimeWarning')\n",
    "\n",
    "import nltk\n",
    "import re\n",
    "from nltk.corpus import stopwords\n",
    "from nltk.tokenize import sent_tokenize, word_tokenize\n",
    "\n",
    "import seaborn as sns\n",
    "import matplotlib.pyplot as plt\n",
    "%matplotlib inline"
   ]
  },
  {
   "cell_type": "code",
   "execution_count": 2,
   "metadata": {},
   "outputs": [],
   "source": [
    "data1 = pd.read_csv('amazon_reviews/amazon_reviews.csv')"
   ]
  },
  {
   "cell_type": "code",
   "execution_count": 3,
   "metadata": {},
   "outputs": [
    {
     "data": {
      "text/html": [
       "<div>\n",
       "<style scoped>\n",
       "    .dataframe tbody tr th:only-of-type {\n",
       "        vertical-align: middle;\n",
       "    }\n",
       "\n",
       "    .dataframe tbody tr th {\n",
       "        vertical-align: top;\n",
       "    }\n",
       "\n",
       "    .dataframe thead th {\n",
       "        text-align: right;\n",
       "    }\n",
       "</style>\n",
       "<table border=\"1\" class=\"dataframe\">\n",
       "  <thead>\n",
       "    <tr style=\"text-align: right;\">\n",
       "      <th></th>\n",
       "      <th>text</th>\n",
       "      <th>label</th>\n",
       "    </tr>\n",
       "  </thead>\n",
       "  <tbody>\n",
       "    <tr>\n",
       "      <th>0</th>\n",
       "      <td>Stuning even for the non-gamer: This sound tr...</td>\n",
       "      <td>__label__2</td>\n",
       "    </tr>\n",
       "    <tr>\n",
       "      <th>1</th>\n",
       "      <td>The best soundtrack ever to anything.: I'm re...</td>\n",
       "      <td>__label__2</td>\n",
       "    </tr>\n",
       "    <tr>\n",
       "      <th>2</th>\n",
       "      <td>Amazing!: This soundtrack is my favorite musi...</td>\n",
       "      <td>__label__2</td>\n",
       "    </tr>\n",
       "    <tr>\n",
       "      <th>3</th>\n",
       "      <td>Excellent Soundtrack: I truly like this sound...</td>\n",
       "      <td>__label__2</td>\n",
       "    </tr>\n",
       "    <tr>\n",
       "      <th>4</th>\n",
       "      <td>Remember, Pull Your Jaw Off The Floor After H...</td>\n",
       "      <td>__label__2</td>\n",
       "    </tr>\n",
       "    <tr>\n",
       "      <th>5</th>\n",
       "      <td>an absolute masterpiece: I am quite sure any ...</td>\n",
       "      <td>__label__2</td>\n",
       "    </tr>\n",
       "    <tr>\n",
       "      <th>6</th>\n",
       "      <td>Buyer beware: This is a self-published book, ...</td>\n",
       "      <td>__label__1</td>\n",
       "    </tr>\n",
       "    <tr>\n",
       "      <th>7</th>\n",
       "      <td>Glorious story: I loved Whisper of the wicked...</td>\n",
       "      <td>__label__2</td>\n",
       "    </tr>\n",
       "    <tr>\n",
       "      <th>8</th>\n",
       "      <td>A FIVE STAR BOOK: I just finished reading Whi...</td>\n",
       "      <td>__label__2</td>\n",
       "    </tr>\n",
       "    <tr>\n",
       "      <th>9</th>\n",
       "      <td>Whispers of the Wicked Saints: This was a eas...</td>\n",
       "      <td>__label__2</td>\n",
       "    </tr>\n",
       "    <tr>\n",
       "      <th>10</th>\n",
       "      <td>The Worst!: A complete waste of time. Typogra...</td>\n",
       "      <td>__label__1</td>\n",
       "    </tr>\n",
       "    <tr>\n",
       "      <th>11</th>\n",
       "      <td>Great book: This was a great book,I just coul...</td>\n",
       "      <td>__label__2</td>\n",
       "    </tr>\n",
       "    <tr>\n",
       "      <th>12</th>\n",
       "      <td>Great Read: I thought this book was brilliant...</td>\n",
       "      <td>__label__2</td>\n",
       "    </tr>\n",
       "    <tr>\n",
       "      <th>13</th>\n",
       "      <td>Oh please: I guess you have to be a romance n...</td>\n",
       "      <td>__label__1</td>\n",
       "    </tr>\n",
       "    <tr>\n",
       "      <th>14</th>\n",
       "      <td>Awful beyond belief!: I feel I have to write ...</td>\n",
       "      <td>__label__1</td>\n",
       "    </tr>\n",
       "    <tr>\n",
       "      <th>15</th>\n",
       "      <td>Don't try to fool us with fake reviews.: It's...</td>\n",
       "      <td>__label__1</td>\n",
       "    </tr>\n",
       "    <tr>\n",
       "      <th>16</th>\n",
       "      <td>A romantic zen baseball comedy: When you hear...</td>\n",
       "      <td>__label__2</td>\n",
       "    </tr>\n",
       "    <tr>\n",
       "      <th>17</th>\n",
       "      <td>Fashionable Compression Stockings!: After I h...</td>\n",
       "      <td>__label__2</td>\n",
       "    </tr>\n",
       "    <tr>\n",
       "      <th>18</th>\n",
       "      <td>Jobst UltraSheer Thigh High: Excellent produc...</td>\n",
       "      <td>__label__2</td>\n",
       "    </tr>\n",
       "    <tr>\n",
       "      <th>19</th>\n",
       "      <td>sizes recomended in the size chart are not re...</td>\n",
       "      <td>__label__1</td>\n",
       "    </tr>\n",
       "    <tr>\n",
       "      <th>20</th>\n",
       "      <td>mens ultrasheer: This model may be ok for sed...</td>\n",
       "      <td>__label__1</td>\n",
       "    </tr>\n",
       "    <tr>\n",
       "      <th>21</th>\n",
       "      <td>Delicious cookie mix: I thought it was funny ...</td>\n",
       "      <td>__label__2</td>\n",
       "    </tr>\n",
       "    <tr>\n",
       "      <th>22</th>\n",
       "      <td>Another Abysmal Digital Copy: Rather than scr...</td>\n",
       "      <td>__label__1</td>\n",
       "    </tr>\n",
       "    <tr>\n",
       "      <th>23</th>\n",
       "      <td>A fascinating insight into the life of modern...</td>\n",
       "      <td>__label__2</td>\n",
       "    </tr>\n",
       "    <tr>\n",
       "      <th>24</th>\n",
       "      <td>i liked this album more then i thought i woul...</td>\n",
       "      <td>__label__2</td>\n",
       "    </tr>\n",
       "    <tr>\n",
       "      <th>25</th>\n",
       "      <td>Problem with charging smaller AAAs: I have ha...</td>\n",
       "      <td>__label__1</td>\n",
       "    </tr>\n",
       "    <tr>\n",
       "      <th>26</th>\n",
       "      <td>Works, but not as advertised: I bought one of...</td>\n",
       "      <td>__label__1</td>\n",
       "    </tr>\n",
       "    <tr>\n",
       "      <th>27</th>\n",
       "      <td>Disappointed: I read the reviews,made my purc...</td>\n",
       "      <td>__label__1</td>\n",
       "    </tr>\n",
       "    <tr>\n",
       "      <th>28</th>\n",
       "      <td>Oh dear: I was excited to find a book ostensi...</td>\n",
       "      <td>__label__1</td>\n",
       "    </tr>\n",
       "    <tr>\n",
       "      <th>29</th>\n",
       "      <td>Based on the reviews here I bought one and I'...</td>\n",
       "      <td>__label__2</td>\n",
       "    </tr>\n",
       "    <tr>\n",
       "      <th>...</th>\n",
       "      <td>...</td>\n",
       "      <td>...</td>\n",
       "    </tr>\n",
       "    <tr>\n",
       "      <th>9970</th>\n",
       "      <td>beware: The product does give the surround so...</td>\n",
       "      <td>__label__1</td>\n",
       "    </tr>\n",
       "    <tr>\n",
       "      <th>9971</th>\n",
       "      <td>happy i only wasted money for 2 Music Experie...</td>\n",
       "      <td>__label__1</td>\n",
       "    </tr>\n",
       "    <tr>\n",
       "      <th>9972</th>\n",
       "      <td>oh my goodness!: If this is a single release,...</td>\n",
       "      <td>__label__1</td>\n",
       "    </tr>\n",
       "    <tr>\n",
       "      <th>9973</th>\n",
       "      <td>The dummy \"FATS\" is hysterical!!!!: ALL I can...</td>\n",
       "      <td>__label__2</td>\n",
       "    </tr>\n",
       "    <tr>\n",
       "      <th>9974</th>\n",
       "      <td>Dummy Scared the Be-Jesus Out of Me: Oh, God,...</td>\n",
       "      <td>__label__1</td>\n",
       "    </tr>\n",
       "    <tr>\n",
       "      <th>9975</th>\n",
       "      <td>More Ham-O-Rama Theatrics From Sir Anthony: W...</td>\n",
       "      <td>__label__1</td>\n",
       "    </tr>\n",
       "    <tr>\n",
       "      <th>9976</th>\n",
       "      <td>Take The Knife Up The Hill And Rent This Movi...</td>\n",
       "      <td>__label__2</td>\n",
       "    </tr>\n",
       "    <tr>\n",
       "      <th>9977</th>\n",
       "      <td>MAGIC ADS WERE SCARY!: Though the movie was f...</td>\n",
       "      <td>__label__2</td>\n",
       "    </tr>\n",
       "    <tr>\n",
       "      <th>9978</th>\n",
       "      <td>Deliciously disturbing ....Highly Underestima...</td>\n",
       "      <td>__label__2</td>\n",
       "    </tr>\n",
       "    <tr>\n",
       "      <th>9979</th>\n",
       "      <td>Magic: If you like Anthony Hopkins, this is o...</td>\n",
       "      <td>__label__2</td>\n",
       "    </tr>\n",
       "    <tr>\n",
       "      <th>9980</th>\n",
       "      <td>Magic, on Blu Ray, starrring Anthony Hopkins ...</td>\n",
       "      <td>__label__2</td>\n",
       "    </tr>\n",
       "    <tr>\n",
       "      <th>9981</th>\n",
       "      <td>A ventriloquists nightmare: Magic is a timele...</td>\n",
       "      <td>__label__2</td>\n",
       "    </tr>\n",
       "    <tr>\n",
       "      <th>9982</th>\n",
       "      <td>great movie massacred by tape quality: One of...</td>\n",
       "      <td>__label__1</td>\n",
       "    </tr>\n",
       "    <tr>\n",
       "      <th>9983</th>\n",
       "      <td>Early Hopkins story still sends chills throug...</td>\n",
       "      <td>__label__2</td>\n",
       "    </tr>\n",
       "    <tr>\n",
       "      <th>9984</th>\n",
       "      <td>The Only Dummy Is The Writer: \"Magic\" poses t...</td>\n",
       "      <td>__label__1</td>\n",
       "    </tr>\n",
       "    <tr>\n",
       "      <th>9985</th>\n",
       "      <td>\"He's NO Dummy. . .\": Viewing \"Magic\" is when...</td>\n",
       "      <td>__label__2</td>\n",
       "    </tr>\n",
       "    <tr>\n",
       "      <th>9986</th>\n",
       "      <td>Amazingly suspenseful psychological thriller:...</td>\n",
       "      <td>__label__2</td>\n",
       "    </tr>\n",
       "    <tr>\n",
       "      <th>9987</th>\n",
       "      <td>A truly great horror movie: I saw this film l...</td>\n",
       "      <td>__label__2</td>\n",
       "    </tr>\n",
       "    <tr>\n",
       "      <th>9988</th>\n",
       "      <td>Frightening movie with superb acting by Sir H...</td>\n",
       "      <td>__label__2</td>\n",
       "    </tr>\n",
       "    <tr>\n",
       "      <th>9989</th>\n",
       "      <td>classic: i got this for my dad. it is super c...</td>\n",
       "      <td>__label__2</td>\n",
       "    </tr>\n",
       "    <tr>\n",
       "      <th>9990</th>\n",
       "      <td>Psychological thriller!: This movie really sc...</td>\n",
       "      <td>__label__2</td>\n",
       "    </tr>\n",
       "    <tr>\n",
       "      <th>9991</th>\n",
       "      <td>A little more money than what I expected to s...</td>\n",
       "      <td>__label__2</td>\n",
       "    </tr>\n",
       "    <tr>\n",
       "      <th>9992</th>\n",
       "      <td>\"The Silence of the Dummies\": This is overall...</td>\n",
       "      <td>__label__1</td>\n",
       "    </tr>\n",
       "    <tr>\n",
       "      <th>9993</th>\n",
       "      <td>Mauled again - killing bears to enrich himsel...</td>\n",
       "      <td>__label__1</td>\n",
       "    </tr>\n",
       "    <tr>\n",
       "      <th>9994</th>\n",
       "      <td>Sorry Jim: As a former realtor, Mr. Cole owes...</td>\n",
       "      <td>__label__1</td>\n",
       "    </tr>\n",
       "    <tr>\n",
       "      <th>9995</th>\n",
       "      <td>A revelation of life in small town America in...</td>\n",
       "      <td>__label__2</td>\n",
       "    </tr>\n",
       "    <tr>\n",
       "      <th>9996</th>\n",
       "      <td>Great biography of a very interesting journal...</td>\n",
       "      <td>__label__2</td>\n",
       "    </tr>\n",
       "    <tr>\n",
       "      <th>9997</th>\n",
       "      <td>Interesting Subject; Poor Presentation: You'd...</td>\n",
       "      <td>__label__1</td>\n",
       "    </tr>\n",
       "    <tr>\n",
       "      <th>9998</th>\n",
       "      <td>Don't buy: The box looked used and it is obvi...</td>\n",
       "      <td>__label__1</td>\n",
       "    </tr>\n",
       "    <tr>\n",
       "      <th>9999</th>\n",
       "      <td>Beautiful Pen and Fast Delivery.: The pen was...</td>\n",
       "      <td>__label__2</td>\n",
       "    </tr>\n",
       "  </tbody>\n",
       "</table>\n",
       "<p>10000 rows × 2 columns</p>\n",
       "</div>"
      ],
      "text/plain": [
       "                                                   text        label\n",
       "0      Stuning even for the non-gamer: This sound tr...  __label__2 \n",
       "1      The best soundtrack ever to anything.: I'm re...  __label__2 \n",
       "2      Amazing!: This soundtrack is my favorite musi...  __label__2 \n",
       "3      Excellent Soundtrack: I truly like this sound...  __label__2 \n",
       "4      Remember, Pull Your Jaw Off The Floor After H...  __label__2 \n",
       "5      an absolute masterpiece: I am quite sure any ...  __label__2 \n",
       "6      Buyer beware: This is a self-published book, ...  __label__1 \n",
       "7      Glorious story: I loved Whisper of the wicked...  __label__2 \n",
       "8      A FIVE STAR BOOK: I just finished reading Whi...  __label__2 \n",
       "9      Whispers of the Wicked Saints: This was a eas...  __label__2 \n",
       "10     The Worst!: A complete waste of time. Typogra...  __label__1 \n",
       "11     Great book: This was a great book,I just coul...  __label__2 \n",
       "12     Great Read: I thought this book was brilliant...  __label__2 \n",
       "13     Oh please: I guess you have to be a romance n...  __label__1 \n",
       "14     Awful beyond belief!: I feel I have to write ...  __label__1 \n",
       "15     Don't try to fool us with fake reviews.: It's...  __label__1 \n",
       "16     A romantic zen baseball comedy: When you hear...  __label__2 \n",
       "17     Fashionable Compression Stockings!: After I h...  __label__2 \n",
       "18     Jobst UltraSheer Thigh High: Excellent produc...  __label__2 \n",
       "19     sizes recomended in the size chart are not re...  __label__1 \n",
       "20     mens ultrasheer: This model may be ok for sed...  __label__1 \n",
       "21     Delicious cookie mix: I thought it was funny ...  __label__2 \n",
       "22     Another Abysmal Digital Copy: Rather than scr...  __label__1 \n",
       "23     A fascinating insight into the life of modern...  __label__2 \n",
       "24     i liked this album more then i thought i woul...  __label__2 \n",
       "25     Problem with charging smaller AAAs: I have ha...  __label__1 \n",
       "26     Works, but not as advertised: I bought one of...  __label__1 \n",
       "27     Disappointed: I read the reviews,made my purc...  __label__1 \n",
       "28     Oh dear: I was excited to find a book ostensi...  __label__1 \n",
       "29     Based on the reviews here I bought one and I'...  __label__2 \n",
       "...                                                 ...          ...\n",
       "9970   beware: The product does give the surround so...  __label__1 \n",
       "9971   happy i only wasted money for 2 Music Experie...  __label__1 \n",
       "9972   oh my goodness!: If this is a single release,...  __label__1 \n",
       "9973   The dummy \"FATS\" is hysterical!!!!: ALL I can...  __label__2 \n",
       "9974   Dummy Scared the Be-Jesus Out of Me: Oh, God,...  __label__1 \n",
       "9975   More Ham-O-Rama Theatrics From Sir Anthony: W...  __label__1 \n",
       "9976   Take The Knife Up The Hill And Rent This Movi...  __label__2 \n",
       "9977   MAGIC ADS WERE SCARY!: Though the movie was f...  __label__2 \n",
       "9978   Deliciously disturbing ....Highly Underestima...  __label__2 \n",
       "9979   Magic: If you like Anthony Hopkins, this is o...  __label__2 \n",
       "9980   Magic, on Blu Ray, starrring Anthony Hopkins ...  __label__2 \n",
       "9981   A ventriloquists nightmare: Magic is a timele...  __label__2 \n",
       "9982   great movie massacred by tape quality: One of...  __label__1 \n",
       "9983   Early Hopkins story still sends chills throug...  __label__2 \n",
       "9984   The Only Dummy Is The Writer: \"Magic\" poses t...  __label__1 \n",
       "9985   \"He's NO Dummy. . .\": Viewing \"Magic\" is when...  __label__2 \n",
       "9986   Amazingly suspenseful psychological thriller:...  __label__2 \n",
       "9987   A truly great horror movie: I saw this film l...  __label__2 \n",
       "9988   Frightening movie with superb acting by Sir H...  __label__2 \n",
       "9989   classic: i got this for my dad. it is super c...  __label__2 \n",
       "9990   Psychological thriller!: This movie really sc...  __label__2 \n",
       "9991   A little more money than what I expected to s...  __label__2 \n",
       "9992   \"The Silence of the Dummies\": This is overall...  __label__1 \n",
       "9993   Mauled again - killing bears to enrich himsel...  __label__1 \n",
       "9994   Sorry Jim: As a former realtor, Mr. Cole owes...  __label__1 \n",
       "9995   A revelation of life in small town America in...  __label__2 \n",
       "9996   Great biography of a very interesting journal...  __label__2 \n",
       "9997   Interesting Subject; Poor Presentation: You'd...  __label__1 \n",
       "9998   Don't buy: The box looked used and it is obvi...  __label__1 \n",
       "9999   Beautiful Pen and Fast Delivery.: The pen was...  __label__2 \n",
       "\n",
       "[10000 rows x 2 columns]"
      ]
     },
     "execution_count": 3,
     "metadata": {},
     "output_type": "execute_result"
    }
   ],
   "source": [
    "data1"
   ]
  },
  {
   "cell_type": "code",
   "execution_count": 6,
   "metadata": {},
   "outputs": [
    {
     "data": {
      "text/plain": [
       "__label__1     5097\n",
       "__label__2     4903\n",
       "Name: label, dtype: int64"
      ]
     },
     "execution_count": 6,
     "metadata": {},
     "output_type": "execute_result"
    }
   ],
   "source": [
    "data1.label.value_counts()"
   ]
  },
  {
   "cell_type": "code",
   "execution_count": 7,
   "metadata": {},
   "outputs": [],
   "source": [
    "from sklearn.model_selection import train_test_split\n",
    "X_train, X_test, y_train, y_test = train_test_split(data1.text,data1.label,test_size=0.3, random_state=1234)"
   ]
  },
  {
   "cell_type": "code",
   "execution_count": 11,
   "metadata": {},
   "outputs": [],
   "source": [
    "from sklearn.feature_extraction.text import TfidfVectorizer\n",
    "tfidf_vectorizer = TfidfVectorizer(stop_words='english')\n",
    "# TF-IDF feature matrix\n",
    "tfidf_train = tfidf_vectorizer.fit_transform(X_train)\n",
    "tfidf_test = tfidf_vectorizer.transform(X_test)"
   ]
  },
  {
   "cell_type": "code",
   "execution_count": 12,
   "metadata": {},
   "outputs": [],
   "source": [
    "from sklearn.linear_model import LogisticRegression\n",
    "import warnings\n",
    "warnings.filterwarnings('ignore')"
   ]
  },
  {
   "cell_type": "code",
   "execution_count": 13,
   "metadata": {},
   "outputs": [],
   "source": [
    "logreg = LogisticRegression()\n",
    "lr_clf = logreg.fit(tfidf_train,y_train)\n",
    "\n",
    "train_pred = lr_clf.predict(tfidf_train)\n",
    "\n",
    "test_pred = lr_clf.predict(tfidf_test)"
   ]
  },
  {
   "cell_type": "code",
   "execution_count": 14,
   "metadata": {},
   "outputs": [],
   "source": [
    "from sklearn.metrics import accuracy_score,recall_score,precision_score,f1_score"
   ]
  },
  {
   "cell_type": "code",
   "execution_count": 15,
   "metadata": {},
   "outputs": [
    {
     "name": "stdout",
     "output_type": "stream",
     "text": [
      "Scores for Train\n",
      "ACC : 0.9405714285714286\n",
      "RECALL : 0.9364323718846261\n",
      "PRECISION : 0.9465043872063402\n",
      "F1_SCORE : 0.9414414414414414\n"
     ]
    }
   ],
   "source": [
    "print('Scores for Train')\n",
    "print('ACC :',accuracy_score(y_train,train_pred))\n",
    "print('RECALL :',recall_score(y_train,train_pred,pos_label='__label__1 '))\n",
    "print('PRECISION :',precision_score(y_train,train_pred,pos_label='__label__1 '))\n",
    "print('F1_SCORE :',f1_score(y_train,train_pred,pos_label='__label__1 '))"
   ]
  },
  {
   "cell_type": "code",
   "execution_count": 16,
   "metadata": {},
   "outputs": [
    {
     "name": "stdout",
     "output_type": "stream",
     "text": [
      "Scores for Test\n",
      "ACC : 0.8426666666666667\n",
      "RECALL : 0.8479685452162516\n",
      "PRECISION : 0.8435462842242504\n",
      "F1_SCORE : 0.8457516339869281\n"
     ]
    }
   ],
   "source": [
    "print('Scores for Test')\n",
    "print('ACC :',accuracy_score(y_test,test_pred))\n",
    "print('RECALL :',recall_score(y_test,test_pred,pos_label='__label__1 '))\n",
    "print('PRECISION :',precision_score(y_test,test_pred,pos_label='__label__1 '))\n",
    "print('F1_SCORE :',f1_score(y_test,test_pred,pos_label='__label__1 '))"
   ]
  },
  {
   "cell_type": "code",
   "execution_count": null,
   "metadata": {},
   "outputs": [],
   "source": []
  },
  {
   "cell_type": "code",
   "execution_count": null,
   "metadata": {},
   "outputs": [],
   "source": []
  },
  {
   "cell_type": "code",
   "execution_count": 17,
   "metadata": {},
   "outputs": [],
   "source": [
    "from sklearn.svm import SVC"
   ]
  },
  {
   "cell_type": "code",
   "execution_count": 23,
   "metadata": {},
   "outputs": [],
   "source": [
    "svm_classifier = SVC(kernel=\"linear\", class_weight=\"balanced\")\n",
    "svm_clf = svm_classifier.fit(tfidf_train,y_train)\n",
    "\n",
    "train_pred = svm_clf.predict(tfidf_train)\n",
    "\n",
    "test_pred = svm_clf.predict(tfidf_test)\n"
   ]
  },
  {
   "cell_type": "code",
   "execution_count": 24,
   "metadata": {},
   "outputs": [
    {
     "name": "stdout",
     "output_type": "stream",
     "text": [
      "Scores for Train\n",
      "ACC : 0.9722857142857143\n",
      "RECALL : 0.9680761691402968\n",
      "PRECISION : 0.9773819621147866\n",
      "F1_SCORE : 0.9727068092290377\n",
      "Scores for Test\n",
      "ACC : 0.8376666666666667\n",
      "RECALL : 0.8250327653997379\n",
      "PRECISION : 0.8512508451656524\n",
      "F1_SCORE : 0.837936772046589\n"
     ]
    }
   ],
   "source": [
    "print('Scores for Train')\n",
    "print('ACC :',accuracy_score(y_train,train_pred))\n",
    "print('RECALL :',recall_score(y_train,train_pred,pos_label='__label__1 '))\n",
    "print('PRECISION :',precision_score(y_train,train_pred,pos_label='__label__1 '))\n",
    "print('F1_SCORE :',f1_score(y_train,train_pred,pos_label='__label__1 '))\n",
    "print('Scores for Test')\n",
    "print('ACC :',accuracy_score(y_test,test_pred))\n",
    "print('RECALL :',recall_score(y_test,test_pred,pos_label='__label__1 '))\n",
    "print('PRECISION :',precision_score(y_test,test_pred,pos_label='__label__1 '))\n",
    "print('F1_SCORE :',f1_score(y_test,test_pred,pos_label='__label__1 '))"
   ]
  },
  {
   "cell_type": "code",
   "execution_count": 25,
   "metadata": {},
   "outputs": [],
   "source": [
    "from sklearn.model_selection import GridSearchCV"
   ]
  },
  {
   "cell_type": "code",
   "execution_count": 27,
   "metadata": {},
   "outputs": [
    {
     "data": {
      "text/plain": [
       "SVC(C=1.0, cache_size=200, class_weight='balanced', coef0=0.0,\n",
       "  decision_function_shape='ovr', degree=3, gamma='auto', kernel='linear',\n",
       "  max_iter=-1, probability=False, random_state=None, shrinking=True,\n",
       "  tol=0.001, verbose=False)"
      ]
     },
     "execution_count": 27,
     "metadata": {},
     "output_type": "execute_result"
    }
   ],
   "source": [
    "svm_clf"
   ]
  },
  {
   "cell_type": "code",
   "execution_count": 28,
   "metadata": {},
   "outputs": [],
   "source": [
    "param_grid = {'C':[1,5,10],\n",
    "             'gamma':[0.1,0.5,0.9]}"
   ]
  },
  {
   "cell_type": "code",
   "execution_count": 29,
   "metadata": {},
   "outputs": [],
   "source": [
    "svm_grid = GridSearchCV(SVC(kernel=\"rbf\"),param_grid,n_jobs=-1)"
   ]
  },
  {
   "cell_type": "code",
   "execution_count": 30,
   "metadata": {},
   "outputs": [],
   "source": [
    "svm_clf = svm_grid.fit(tfidf_train,y_train)\n",
    "\n",
    "train_pred = svm_clf.predict(tfidf_train)\n",
    "\n",
    "test_pred = svm_clf.predict(tfidf_test)"
   ]
  },
  {
   "cell_type": "code",
   "execution_count": 31,
   "metadata": {},
   "outputs": [
    {
     "data": {
      "text/plain": [
       "{'C': 5, 'gamma': 0.9}"
      ]
     },
     "execution_count": 31,
     "metadata": {},
     "output_type": "execute_result"
    }
   ],
   "source": [
    "svm_grid.best_params_"
   ]
  },
  {
   "cell_type": "code",
   "execution_count": 32,
   "metadata": {},
   "outputs": [
    {
     "name": "stdout",
     "output_type": "stream",
     "text": [
      "Scores for Train\n",
      "ACC : 1.0\n",
      "RECALL : 1.0\n",
      "PRECISION : 1.0\n",
      "F1_SCORE : 1.0\n",
      "Scores for Test\n",
      "ACC : 0.8453333333333334\n",
      "RECALL : 0.8466579292267365\n",
      "PRECISION : 0.8488830486202366\n",
      "F1_SCORE : 0.8477690288713912\n"
     ]
    }
   ],
   "source": [
    "print('Scores for Train')\n",
    "print('ACC :',accuracy_score(y_train,train_pred))\n",
    "print('RECALL :',recall_score(y_train,train_pred,pos_label='__label__1 '))\n",
    "print('PRECISION :',precision_score(y_train,train_pred,pos_label='__label__1 '))\n",
    "print('F1_SCORE :',f1_score(y_train,train_pred,pos_label='__label__1 '))\n",
    "print('Scores for Test')\n",
    "print('ACC :',accuracy_score(y_test,test_pred))\n",
    "print('RECALL :',recall_score(y_test,test_pred,pos_label='__label__1 '))\n",
    "print('PRECISION :',precision_score(y_test,test_pred,pos_label='__label__1 '))\n",
    "print('F1_SCORE :',f1_score(y_test,test_pred,pos_label='__label__1 '))"
   ]
  },
  {
   "cell_type": "code",
   "execution_count": null,
   "metadata": {},
   "outputs": [],
   "source": []
  },
  {
   "cell_type": "code",
   "execution_count": 42,
   "metadata": {},
   "outputs": [],
   "source": [
    "svm_classifier = SVC(kernel=\"rbf\", C=5,gamma=0.9)\n",
    "svm_clf = svm_classifier.fit(tfidf_train,y_train)\n",
    "\n",
    "train_pred = svm_clf.predict(tfidf_train)\n",
    "\n",
    "test_pred = svm_clf.predict(tfidf_test)\n"
   ]
  },
  {
   "cell_type": "markdown",
   "metadata": {},
   "source": [
    "1 Star - The write speeds are only 15Mbps of Maximum. Its almost equal to USB 2.0\n",
    "My two stars are only for reading speed. Please donot cheat the customers. In your description it is given as 10 times than 2.0 but its not."
   ]
  },
  {
   "cell_type": "code",
   "execution_count": 59,
   "metadata": {},
   "outputs": [],
   "source": [
    "live_test1 = \"The write speeds are only 15Mbps of Maximum. Its almost equal to USB 2.0 My two stars are only for reading speed. Please donot cheat the customers. In your description it is given as 10 times than 2.0 but its not.\""
   ]
  },
  {
   "cell_type": "code",
   "execution_count": 60,
   "metadata": {},
   "outputs": [],
   "source": [
    "live_test1 = pd.core.series.Series(live_test1)"
   ]
  },
  {
   "cell_type": "code",
   "execution_count": 61,
   "metadata": {},
   "outputs": [],
   "source": [
    "tfidf_live_test1 = tfidf_vectorizer.transform(live_test1)"
   ]
  },
  {
   "cell_type": "code",
   "execution_count": 62,
   "metadata": {},
   "outputs": [
    {
     "data": {
      "text/plain": [
       "array(['__label__1 '], dtype=object)"
      ]
     },
     "execution_count": 62,
     "metadata": {},
     "output_type": "execute_result"
    }
   ],
   "source": [
    "svm_clf.predict(tfidf_live_test1)"
   ]
  },
  {
   "cell_type": "markdown",
   "metadata": {},
   "source": [
    "1 Star - I purchased this pen drive but it came write protected and not able to use it."
   ]
  },
  {
   "cell_type": "code",
   "execution_count": 66,
   "metadata": {},
   "outputs": [],
   "source": [
    "live_test2 = \"I purchased this pen drive but it came write protected and not able to use it.\"\n",
    "live_test2 = pd.core.series.Series(live_test2)\n",
    "tfidf_live_test2 = tfidf_vectorizer.transform(live_test2)"
   ]
  },
  {
   "cell_type": "code",
   "execution_count": 67,
   "metadata": {},
   "outputs": [
    {
     "data": {
      "text/plain": [
       "array(['__label__1 '], dtype=object)"
      ]
     },
     "execution_count": 67,
     "metadata": {},
     "output_type": "execute_result"
    }
   ],
   "source": [
    "svm_clf.predict(tfidf_live_test2)"
   ]
  },
  {
   "cell_type": "code",
   "execution_count": null,
   "metadata": {},
   "outputs": [],
   "source": []
  },
  {
   "cell_type": "markdown",
   "metadata": {},
   "source": [
    "5 Star - Good quality and great performance. U can take the USB inside after using so there is no chance of breaking by accident."
   ]
  },
  {
   "cell_type": "code",
   "execution_count": 70,
   "metadata": {},
   "outputs": [],
   "source": [
    "live_test3 = \"Good quality and great performance. U can take the USB inside after using so there is no chance of breaking by accident.\"\n",
    "live_test3 = pd.core.series.Series(live_test3)\n",
    "tfidf_live_test3 = tfidf_vectorizer.transform(live_test3)"
   ]
  },
  {
   "cell_type": "code",
   "execution_count": 71,
   "metadata": {},
   "outputs": [
    {
     "data": {
      "text/plain": [
       "array(['__label__2 '], dtype=object)"
      ]
     },
     "execution_count": 71,
     "metadata": {},
     "output_type": "execute_result"
    }
   ],
   "source": [
    "svm_clf.predict(tfidf_live_test3)"
   ]
  },
  {
   "cell_type": "code",
   "execution_count": null,
   "metadata": {},
   "outputs": [],
   "source": []
  },
  {
   "cell_type": "code",
   "execution_count": null,
   "metadata": {},
   "outputs": [],
   "source": []
  },
  {
   "cell_type": "markdown",
   "metadata": {},
   "source": [
    "### Neural Networks"
   ]
  },
  {
   "cell_type": "code",
   "execution_count": 73,
   "metadata": {},
   "outputs": [
    {
     "name": "stderr",
     "output_type": "stream",
     "text": [
      "Using TensorFlow backend.\n"
     ]
    }
   ],
   "source": [
    "from keras.models import Sequential\n",
    "from keras.layers import Dense\n",
    "from keras.layers import Flatten\n",
    "from keras.layers import Dropout\n",
    "from keras.layers.embeddings import Embedding\n",
    "from keras.preprocessing import sequence\n",
    "from keras import regularizers\n",
    "from keras.optimizers import Adam\n",
    "from keras.layers import Dropout\n",
    "from keras.callbacks import EarlyStopping, ReduceLROnPlateau\n",
    "from keras.layers import GlobalMaxPooling1D, AveragePooling1D,Conv1D,Dropout,Embedding,MaxPooling1D,LSTM"
   ]
  },
  {
   "cell_type": "code",
   "execution_count": 74,
   "metadata": {},
   "outputs": [],
   "source": [
    "CONTRACTION_MAP = {\"ain't\": 'is not', \"aren't\": 'are not', \"can't\": 'cannot', \"can't've\": 'cannot have', \"'cause\": 'because', \"could've\": 'could have', \"couldn't\": 'could not', \"couldn't've\": 'could not have', \"didn't\": 'did not', \"doesn't\": 'does not', \"don't\": 'do not', \"hadn't\": 'had not', \"hadn't've\": 'had not have', \"hasn't\": 'has not', \"haven't\": 'have not', \"he'd\": 'he would', \"he'd've\": 'he would have', \"he'll\": 'he will', \"he'll've\": 'he he will have', \"he's\": 'he is', \"how'd\": 'how did', \"how'd'y\": 'how do you', \"how'll\": 'how will', \"how's\": 'how is', \"I'd\": 'I would', \"I'd've\": 'I would have', \"I'll\": 'I will', \"I'll've\": 'I will have', \"I'm\": 'I am', \"I've\": 'I have', \"i'd\": 'i would', \"i'd've\": 'i would have', \"i'll\": 'i will', \"i'll've\": 'i will have', \"i'm\": 'i am', \"i've\": 'i have', \"isn't\": 'is not', \"it'd\": 'it would', \"it'd've\": 'it would have', \"it'll\": 'it will', \"it'll've\": 'it will have', \"it's\": 'it is', \"let's\": 'let us', \"ma'am\": 'madam', \"mayn't\": 'may not', \"might've\": 'might have', \"mightn't\": 'might not', \"mightn't've\": 'might not have', \"must've\": 'must have', \"mustn't\": 'must not', \"mustn't've\": 'must not have', \"needn't\": 'need not', \"needn't've\": 'need not have', \"o'clock\": 'of the clock', \"oughtn't\": 'ought not', \"oughtn't've\": 'ought not have', \"shan't\": 'shall not', \"sha'n't\": 'shall not', \"shan't've\": 'shall not have', \"she'd\": 'she would', \"she'd've\": 'she would have', \"she'll\": 'she will', \"she'll've\": 'she will have', \"she's\": 'she is', \"should've\": 'should have', \"shouldn't\": 'should not', \"shouldn't've\": 'should not have', \"so've\": 'so have', \"so's\": 'so as', \"that'd\": 'that would', \"that'd've\": 'that would have', \"that's\": 'that is', \"there'd\": 'there would', \"there'd've\": 'there would have', \"there's\": 'there is', \"they'd\": 'they would', \"they'd've\": 'they would have', \"they'll\": 'they will', \"they'll've\": 'they will have', \"they're\": 'they are', \"they've\": 'they have', \"to've\": 'to have', \"wasn't\": 'was not', \"we'd\": 'we would', \"we'd've\": 'we would have', \"we'll\": 'we will', \"we'll've\": 'we will have', \"we're\": 'we are', \"we've\": 'we have', \"weren't\": 'were not', \"what'll\": 'what will', \"what'll've\": 'what will have', \"what're\": 'what are', \"what's\": 'what is', \"what've\": 'what have', \"when's\": 'when is', \"when've\": 'when have', \"where'd\": 'where did', \"where's\": 'where is', \"where've\": 'where have', \"who'll\": 'who will', \"who'll've\": 'who will have', \"who's\": 'who is', \"who've\": 'who have', \"why's\": 'why is', \"why've\": 'why have', \"will've\": 'will have', \"won't\": 'will not', \"won't've\": 'will not have', \"would've\": 'would have', \"wouldn't\": 'would not', \"wouldn't've\": 'would not have', \"y'all\": 'you all', \"y'all'd\": 'you all would', \"y'all'd've\": 'you all would have', \"y'all're\": 'you all are', \"y'all've\": 'you all have', \"you'd\": 'you would', \"you'd've\": 'you would have', \"you'll\": 'you will', \"you'll've\": 'you will have', \"you're\": 'you are', \"you've\": 'you have'}"
   ]
  },
  {
   "cell_type": "code",
   "execution_count": 75,
   "metadata": {},
   "outputs": [],
   "source": [
    "def expand_contractions(text, contraction_mapping=CONTRACTION_MAP):\n",
    "    #re.compile(regex).search(subject) is equivalent to re.search(regex, subject).\n",
    "    contractions_pattern = re.compile('({})'.format('|'.join(contraction_mapping.keys())),\n",
    "                                      flags=re.IGNORECASE | re.DOTALL)\n",
    "\n",
    "    def expand_match(contraction):\n",
    "        match = contraction.group(0)\n",
    "        first_char = match[0]\n",
    "        expanded_contraction = contraction_mapping.get(match)\\\n",
    "            if contraction_mapping.get(match)\\\n",
    "            else contraction_mapping.get(match.lower())\n",
    "        expanded_contraction = first_char+expanded_contraction[1:]\n",
    "        return expanded_contraction\n",
    "\n",
    "    expanded_text = re.sub(\"’\", \"'\", text)\n",
    "    expanded_text = contractions_pattern.sub(expand_match, expanded_text)\n",
    "\n",
    "    return expanded_text"
   ]
  },
  {
   "cell_type": "code",
   "execution_count": 76,
   "metadata": {},
   "outputs": [],
   "source": [
    "# Function to Preprocess the Reviews\n",
    "def clean_doc(doc):\n",
    "    # Removing contractions\n",
    "    doc = expand_contractions(doc)\n",
    "    \n",
    "    # split into tokens by white space\n",
    "    tokens = doc.split(' ')\n",
    "    \n",
    "    # Converting into lower case\n",
    "    tokens = [w.lower() for w in tokens]\n",
    "    \n",
    "    # remove special characters from each token\n",
    "    tokens = [re.sub(r\"[^a-zA-Z#\\s]\",'',i) for i in tokens]\n",
    "    tokens = [re.sub(r\"[\\r\\n]\",'',i) for i in tokens]\n",
    "    # filter out stop words\n",
    "    stop_words = set(stopwords.words('english'))\n",
    "    tokens = [w for w in tokens if not w in stop_words]\n",
    "    \n",
    "    # lemmatizing\n",
    "    lmtzr = nltk.stem.WordNetLemmatizer()\n",
    "    tokens = [lmtzr.lemmatize(w) for w in tokens]\n",
    "    \n",
    "    # filter out short tokens\n",
    "    tokens = [word for word in tokens if len(word) > 1]\n",
    "    return tokens"
   ]
  },
  {
   "cell_type": "code",
   "execution_count": 77,
   "metadata": {},
   "outputs": [],
   "source": [
    "data1['modified_review'] = data1.text.apply(lambda x: clean_doc(x))"
   ]
  },
  {
   "cell_type": "code",
   "execution_count": 88,
   "metadata": {},
   "outputs": [],
   "source": [
    "data1.loc[data1.label == '__label__1 ','label'] = 0\n",
    "data1.loc[data1.label == '__label__2 ','label'] = 1"
   ]
  },
  {
   "cell_type": "code",
   "execution_count": 89,
   "metadata": {},
   "outputs": [],
   "source": [
    "X = data1.modified_review\n",
    "y = data1.label\n",
    "\n",
    "X_train, X_test, y_train, y_test = train_test_split(X,y,test_size=0.3, random_state=1234)"
   ]
  },
  {
   "cell_type": "code",
   "execution_count": 90,
   "metadata": {},
   "outputs": [],
   "source": [
    "max_num_words = 10000\n",
    "seq_len = 50\n",
    "embedding_size = 100"
   ]
  },
  {
   "cell_type": "code",
   "execution_count": 91,
   "metadata": {},
   "outputs": [
    {
     "data": {
      "text/plain": [
       "((7000, 50), (3000, 50))"
      ]
     },
     "execution_count": 91,
     "metadata": {},
     "output_type": "execute_result"
    }
   ],
   "source": [
    "from keras.preprocessing.text import Tokenizer\n",
    "from keras.preprocessing.sequence import pad_sequences\n",
    "\n",
    "tokenizer = Tokenizer(num_words=max_num_words) #Tokenizer is used to tokenize text\n",
    "tokenizer.fit_on_texts(X_train) #Fit this to our corpus\n",
    "\n",
    "X_train = tokenizer.texts_to_sequences(X_train) #'text to sequences converts the text to a list of indices\n",
    "X_train = pad_sequences(X_train, maxlen=50) #pad_sequences makes every sequence a fixed size list by padding with 0s \n",
    "\n",
    "X_test = tokenizer.texts_to_sequences(X_test) \n",
    "X_test = pad_sequences(X_test, maxlen=50)\n",
    "\n",
    "X_train.shape, X_test.shape # Check the dimensions of x_train and x_test  "
   ]
  },
  {
   "cell_type": "code",
   "execution_count": 92,
   "metadata": {},
   "outputs": [],
   "source": [
    "model = Sequential() # Call Sequential to initialize a network\n",
    "model.add(Embedding(input_dim = max_num_words, \n",
    "                    input_length = seq_len, \n",
    "                    output_dim = embedding_size)) # Add an embedding layer which represents each unique token as a vector\n",
    "#model.add(Dropout(rate=0.5))\n",
    "model.add(LSTM(20, return_sequences=True,dropout=0.9)) # Add an LSTM layer\n",
    "model.add(LSTM(10, return_sequences=False))\n",
    "#model.add(Dropout(rate=0.5))\n",
    "model.add(Dense(1, activation='sigmoid'))"
   ]
  },
  {
   "cell_type": "code",
   "execution_count": 93,
   "metadata": {},
   "outputs": [
    {
     "name": "stdout",
     "output_type": "stream",
     "text": [
      "_________________________________________________________________\n",
      "Layer (type)                 Output Shape              Param #   \n",
      "=================================================================\n",
      "embedding_2 (Embedding)      (None, 50, 100)           1000000   \n",
      "_________________________________________________________________\n",
      "lstm_3 (LSTM)                (None, 50, 20)            9680      \n",
      "_________________________________________________________________\n",
      "lstm_4 (LSTM)                (None, 10)                1240      \n",
      "_________________________________________________________________\n",
      "dense_2 (Dense)              (None, 1)                 11        \n",
      "=================================================================\n",
      "Total params: 1,010,931\n",
      "Trainable params: 1,010,931\n",
      "Non-trainable params: 0\n",
      "_________________________________________________________________\n"
     ]
    }
   ],
   "source": [
    "model.compile(loss='binary_crossentropy',\n",
    "              optimizer='rmsprop',\n",
    "              metrics=['accuracy'])\n",
    "model.summary()"
   ]
  },
  {
   "cell_type": "code",
   "execution_count": 94,
   "metadata": {},
   "outputs": [
    {
     "name": "stdout",
     "output_type": "stream",
     "text": [
      "Train on 7000 samples, validate on 3000 samples\n",
      "Epoch 1/20\n",
      " - 11s - loss: 0.6647 - acc: 0.6051 - val_loss: 0.5774 - val_acc: 0.7227\n",
      "Epoch 2/20\n",
      " - 8s - loss: 0.5364 - acc: 0.7364 - val_loss: 0.4716 - val_acc: 0.7847\n",
      "Epoch 3/20\n",
      " - 8s - loss: 0.4703 - acc: 0.7786 - val_loss: 0.4298 - val_acc: 0.8087\n",
      "Epoch 4/20\n",
      " - 8s - loss: 0.3977 - acc: 0.8279 - val_loss: 0.4050 - val_acc: 0.8283\n",
      "Epoch 5/20\n",
      " - 8s - loss: 0.3695 - acc: 0.8423 - val_loss: 0.3996 - val_acc: 0.8290\n",
      "Epoch 6/20\n",
      " - 8s - loss: 0.3371 - acc: 0.8566 - val_loss: 0.3922 - val_acc: 0.8370\n",
      "Epoch 7/20\n",
      " - 8s - loss: 0.3169 - acc: 0.8651 - val_loss: 0.3906 - val_acc: 0.8430\n",
      "Epoch 8/20\n",
      " - 8s - loss: 0.2931 - acc: 0.8797 - val_loss: 0.3823 - val_acc: 0.8457\n",
      "Epoch 9/20\n",
      " - 8s - loss: 0.2711 - acc: 0.8894 - val_loss: 0.4124 - val_acc: 0.8500\n",
      "Epoch 10/20\n",
      " - 8s - loss: 0.2630 - acc: 0.8951 - val_loss: 0.3901 - val_acc: 0.8500\n",
      "Epoch 11/20\n",
      " - 8s - loss: 0.2431 - acc: 0.9044 - val_loss: 0.3981 - val_acc: 0.8480\n",
      "Epoch 12/20\n",
      " - 8s - loss: 0.2341 - acc: 0.9067 - val_loss: 0.4093 - val_acc: 0.8460\n",
      "Epoch 13/20\n",
      " - 8s - loss: 0.2049 - acc: 0.9201 - val_loss: 0.4391 - val_acc: 0.8463\n",
      "Epoch 14/20\n",
      " - 8s - loss: 0.1968 - acc: 0.9261 - val_loss: 0.4248 - val_acc: 0.8440\n",
      "Epoch 15/20\n",
      " - 8s - loss: 0.1871 - acc: 0.9293 - val_loss: 0.4086 - val_acc: 0.8460\n",
      "Epoch 16/20\n",
      " - 8s - loss: 0.1724 - acc: 0.9333 - val_loss: 0.4317 - val_acc: 0.8450\n",
      "Epoch 17/20\n",
      " - 8s - loss: 0.1635 - acc: 0.9380 - val_loss: 0.4640 - val_acc: 0.8430\n",
      "Epoch 18/20\n",
      " - 8s - loss: 0.1576 - acc: 0.9404 - val_loss: 0.4747 - val_acc: 0.8410\n",
      "Epoch 19/20\n",
      " - 8s - loss: 0.1514 - acc: 0.9449 - val_loss: 0.4830 - val_acc: 0.8410\n",
      "Epoch 20/20\n",
      " - 8s - loss: 0.1450 - acc: 0.9480 - val_loss: 0.4963 - val_acc: 0.8333\n"
     ]
    },
    {
     "data": {
      "text/plain": [
       "<keras.callbacks.History at 0x23d2db4c4a8>"
      ]
     },
     "execution_count": 94,
     "metadata": {},
     "output_type": "execute_result"
    }
   ],
   "source": [
    "model.fit(X_train, y_train,\n",
    "          batch_size=64,\n",
    "          epochs=20,\n",
    "          validation_data=(X_test, y_test),verbose=2)"
   ]
  },
  {
   "cell_type": "markdown",
   "metadata": {},
   "source": [
    "### Feature Extraction from reviews"
   ]
  },
  {
   "cell_type": "code",
   "execution_count": 98,
   "metadata": {},
   "outputs": [],
   "source": [
    "data1['number_of_sentences'] = [len(i) for i in data1.text]"
   ]
  },
  {
   "cell_type": "code",
   "execution_count": 99,
   "metadata": {},
   "outputs": [
    {
     "name": "stdout",
     "output_type": "stream",
     "text": [
      "Minimum number of sentences in our reviews is 102\n",
      "Maximum number of sentences in our reviews is 1016\n"
     ]
    }
   ],
   "source": [
    "print('Minimum number of sentences in our reviews is',min(data1['number_of_sentences']))\n",
    "print('Maximum number of sentences in our reviews is',max(data1['number_of_sentences']))"
   ]
  },
  {
   "cell_type": "code",
   "execution_count": 100,
   "metadata": {},
   "outputs": [],
   "source": [
    "label_font = {'fontname':'sans serif','fontsize':15} \n",
    "title_font = {'fontname':'sans serif','fontsize':20}"
   ]
  },
  {
   "cell_type": "code",
   "execution_count": 102,
   "metadata": {},
   "outputs": [
    {
     "data": {
      "image/png": "[encoded data removed]",
      "text/plain": [
       "<Figure size 1080x540 with 1 Axes>"
      ]
     },
     "metadata": {},
     "output_type": "display_data"
    }
   ],
   "source": [
    "pd.crosstab(data1.number_of_sentences, data1.label,normalize='index').plot(kind = 'bar',figsize=(15,7.5))\n",
    "plt.suptitle('Distribution of Sentiment across number of sentences',**title_font)\n",
    "plt.legend(loc=0, fontsize = 'x-large',shadow = bool,labels = ['Negative', 'Positive'])\n",
    "plt.xticks(fontsize=12,rotation=0,fontname='sans serif')\n",
    "plt.xlabel('Number of sentences',**label_font)\n",
    "plt.yticks(fontsize=12,fontname='sans serif')\n",
    "plt.ylabel('Total count of Sentiments',**label_font)\n",
    "plt.show()"
   ]
  },
  {
   "cell_type": "markdown",
   "metadata": {},
   "source": [
    "### Comparing polarity and Label."
   ]
  },
  {
   "cell_type": "code",
   "execution_count": 8,
   "metadata": {},
   "outputs": [],
   "source": [
    "from textblob import TextBlob"
   ]
  },
  {
   "cell_type": "code",
   "execution_count": 9,
   "metadata": {},
   "outputs": [],
   "source": [
    "data1['polarity'] = data1['text'].map(lambda text: TextBlob(text).sentiment.polarity)"
   ]
  },
  {
   "cell_type": "code",
   "execution_count": 13,
   "metadata": {},
   "outputs": [
    {
     "data": {
      "text/plain": [
       "(2428, 3)"
      ]
     },
     "execution_count": 13,
     "metadata": {},
     "output_type": "execute_result"
    }
   ],
   "source": [
    "data1[data1['polarity'] <0].shape"
   ]
  },
  {
   "cell_type": "code",
   "execution_count": 14,
   "metadata": {},
   "outputs": [
    {
     "data": {
      "text/plain": [
       "(7411, 3)"
      ]
     },
     "execution_count": 14,
     "metadata": {},
     "output_type": "execute_result"
    }
   ],
   "source": [
    "data1[data1['polarity'] >0].shape"
   ]
  },
  {
   "cell_type": "code",
   "execution_count": 15,
   "metadata": {},
   "outputs": [
    {
     "data": {
      "text/plain": [
       "(161, 3)"
      ]
     },
     "execution_count": 15,
     "metadata": {},
     "output_type": "execute_result"
    }
   ],
   "source": [
    "data1[data1['polarity'] ==0].shape"
   ]
  },
  {
   "cell_type": "code",
   "execution_count": null,
   "metadata": {},
   "outputs": [],
   "source": []
  }
 ],
 "metadata": {
  "kernelspec": {
   "display_name": "Python 3",
   "language": "python",
   "name": "python3"
  },
  "language_info": {
   "codemirror_mode": {
    "name": "ipython",
    "version": 3
   },
   "file_extension": ".py",
   "mimetype": "text/x-python",
   "name": "python",
   "nbconvert_exporter": "python",
   "pygments_lexer": "ipython3",
   "version": "3.6.5"
  }
 },
 "nbformat": 4,
 "nbformat_minor": 2
}
